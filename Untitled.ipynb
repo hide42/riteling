{
 "cells": [
  {
   "cell_type": "markdown",
   "metadata": {},
   "source": [
    "Онлайновые алгоритмы(использовал и забыл) Рассмотрим Тренировку перцептрона"
   ]
  },
  {
   "cell_type": "code",
   "execution_count": 1,
   "metadata": {
    "collapsed": true
   },
   "outputs": [],
   "source": [
    "import numpy as np\n",
    "class perceptron():\n",
    "    def __init__(self,X,y,treshold = 0.5,\n",
    "                learning_rate=0.1,max_epochs = 1000):\n",
    "        self.treshold=treshold\n",
    "        self.learning_rate=learning_rate\n",
    "        self.X=X\n",
    "        self.y=y\n",
    "        self.max_epochs=max_epochs\n",
    "        self.i_test=1;\n",
    "    #Каждому наблюдению будет назначен вес для всех входящих наблюдений.\n",
    "    #Либо все веса 0 , либо небольшие случайные значения\n",
    "    def initialize(self,init_type = 'zeros'):\n",
    "        if init_type=='random':\n",
    "            self.weights = np.random.rand(len(self.X[0]))*0.05\n",
    "        if init_type=='zeros':\n",
    "            self.weights = np.zeros(len(self.X[0]))\n",
    "    #Функция тренировки , данные перебираются и передаются в метод train_observation\n",
    "    #А он в свою очередь меняет веса , до тех пор пока количество ошибок не будет 0\n",
    "    def train(self):\n",
    "        epoch=0\n",
    "        while True:\n",
    "            error_count = 0\n",
    "            epoch+=1\n",
    "            for(X,y) in zip(self.X, self.y):\n",
    "                error_count +=self.train_observation(X,y,error_count)#По одному наблюдению за раз\n",
    "                \n",
    "            if error_count==0:\n",
    "                print(\"Successful!\")\n",
    "                break\n",
    "            if epoch >= self.max_epochs:\n",
    "                print(\"FAILED MAX EPOCHS\")\n",
    "                break\n",
    "    #НX коэфициенты уравнения , а y их target (целевое)\n",
    "    def train_observation(self,X,y, error_count):\n",
    "        #Подставляем в наше уравнение веса.1 проход: X=(1,0,0)<=>ax1 , a = 0 , получаем 0\n",
    "        #И округляем наше значение до 0 или 1\n",
    "        result = np.dot(X,self.weights)>self.treshold\n",
    "        \n",
    "        error = y - result #Если получившийся и ожидаемый результат сошелся идем далее\n",
    "        # -1 мы под графиком , 1 на графике , 0 достаточно близко к графику\n",
    "        if error!=0:\n",
    "            error_count+=1\n",
    "            for index, value in enumerate(X):\n",
    "                self.weights[index]+=self.learning_rate*error*value# -+0.1 Если не дотягиваем то +0.1 , если перелетаем , то -0.1\n",
    "                #Веса меняются в зависимости от значения матрицы XX\n",
    "        return error_count\n",
    "    \n",
    "    def predict(self, X):\n",
    "        print(self.i_test,' test ',np.dot(X, self.weights) > self.treshold)\n",
    "        self.i_test+=1\n",
    "    def printWeights(self):\n",
    "        print(self.weights)"
   ]
  },
  {
   "cell_type": "code",
   "execution_count": 2,
   "metadata": {},
   "outputs": [
    {
     "name": "stdout",
     "output_type": "stream",
     "text": [
      "Successful!\n",
      "1  test  True\n",
      "2  test  False\n",
      "[ 0.3  0.3]\n"
     ]
    }
   ],
   "source": [
    "#дизункция\n",
    "X = [(1,0),(1,1),(0,0)]\n",
    "y = [0,1,0]\n",
    "\n",
    "p = perceptron(X,y)\n",
    "p.initialize()\n",
    "p.train()\n",
    "p.predict((1,1))\n",
    "p.predict((1,0))\n",
    "p.printWeights()"
   ]
  },
  {
   "cell_type": "markdown",
   "metadata": {},
   "source": [
    "Обучим наш перцептрон более инетересной задаче, определять пятерку на изображении 3х5. \n",
    "Вот наша выборка и искаженные 5:\n",
    "![title](imgs/5s.png)\n",
    "Для обучения нам предстоить перевести картинки в наборы сигналов, 0 - белый пиксель , 1 черный:\n",
    "Наша выборка 3х5(1234567890):\n",
    "<pre>  001  111  111  101  111  111  111  111  111  111\n",
    "  001  001  001  101  100  100  001  101  101  101\n",
    "  001  111  111  111  111  111  001  111  111  101\n",
    "  001  100  001  001  001  101  001  101  001  101\n",
    "  001  111  111  001  111  111  001  111  111  111\n",
    "</pre>\n",
    "И вот наш тестовый полигон, где мы посмотрим угадывает ли наш перцептрон искаженные пятерки.\n",
    " \n",
    "<p> Тестовая выборка (искаженные 5) :\n",
    "<pre>111  111  110  111  111\n",
    "100  100  100  100  100\n",
    "111  110  111  011  010\n",
    "001  001  001  001  001\n",
    "111  111  111  111  111\n",
    "</pre>"
   ]
  },
  {
   "cell_type": "code",
   "execution_count": 4,
   "metadata": {},
   "outputs": [
    {
     "name": "stdout",
     "output_type": "stream",
     "text": [
      "Successful!\n",
      "1  test  False\n",
      "2  test  False\n",
      "3  test  False\n",
      "4  test  False\n",
      "5  test  True\n",
      "6  test  False\n",
      "7  test  False\n",
      "8  test  False\n",
      "9  test  False\n",
      "10  test  False\n",
      "TEST:\n",
      "11  test  True\n",
      "12  test  True\n",
      "13  test  True\n",
      "14  test  True\n",
      "15  test  True\n",
      "Веса обученного перцептрона\n",
      "[ 0.1  0.1  0.1  0.2  0.  -1.2  0.2  0.2  0.1 -1.2  0.   0.1  0.2  0.2  0.1]\n"
     ]
    }
   ],
   "source": [
    "X = [(0,0,1,0,0,1,0,0,1,0,0,1,0,0,1),#1\n",
    "     (1,1,1,0,0,1,1,1,1,1,0,0,1,1,1),#2\n",
    "     (1,1,1,0,0,1,1,1,1,0,0,1,1,1,1),#3\n",
    "     (1,0,1,1,0,1,1,1,1,0,0,1,0,0,1),#4\n",
    "     (1,1,1,1,0,0,1,1,1,0,0,1,1,1,1),#5\n",
    "     (1,1,1,1,0,0,1,1,1,1,0,1,1,1,1),#6\n",
    "     (1,1,1,0,0,1,0,0,1,0,0,1,0,0,1),#7\n",
    "     (1,1,1,1,0,1,1,1,1,1,0,1,1,1,1),#8\n",
    "     (1,1,1,1,0,1,1,1,1,0,0,1,1,1,1),#9\n",
    "     (1,1,1,1,0,1,1,0,1,1,0,1,1,1,1)]#0\n",
    "y = [0,0,0,0,1,0,0,0,0,0]\n",
    "\n",
    "test = [(1,1,1,1,0,0,1,1,1,0,0,1,1,1,1),\n",
    "        (1,1,1,1,0,0,1,1,0,0,0,1,1,1,1),\n",
    "        (1,1,1,0,0,0,1,1,1,0,0,1,1,1,1),\n",
    "        (1,1,1,1,0,0,0,1,1,0,0,1,1,1,1),\n",
    "        (1,1,1,1,0,0,0,1,0,0,0,1,1,1,1)]\n",
    "p = perceptron(X,y)\n",
    "p.initialize()\n",
    "p.train()\n",
    "for i in X:\n",
    "    p.predict(i)\n",
    "print('TEST:')\n",
    "for i in test:\n",
    "    p.predict(i)\n",
    "print('Веса обученного перцептрона')\n",
    "p.printWeights()"
   ]
  }
 ],
 "metadata": {
  "kernelspec": {
   "display_name": "Python 3",
   "language": "python",
   "name": "python3"
  },
  "language_info": {
   "codemirror_mode": {
    "name": "ipython",
    "version": 3
   },
   "file_extension": ".py",
   "mimetype": "text/x-python",
   "name": "python",
   "nbconvert_exporter": "python",
   "pygments_lexer": "ipython3",
   "version": "3.6.3"
  }
 },
 "nbformat": 4,
 "nbformat_minor": 2
}
