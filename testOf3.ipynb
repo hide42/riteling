{
 "cells": [
  {
   "cell_type": "code",
   "execution_count": 1,
   "metadata": {},
   "outputs": [
    {
     "name": "stdout",
     "output_type": "stream",
     "text": [
      "INFO:tensorflow:Restoring parameters from ./model.cpkt\n"
     ]
    },
    {
     "data": {
      "image/png": "[encoded data removed]",
      "text/plain": [
       "<matplotlib.figure.Figure at 0xb618550>"
      ]
     },
     "metadata": {},
     "output_type": "display_data"
    },
    {
     "name": "stdout",
     "output_type": "stream",
     "text": [
      "[3]\n"
     ]
    }
   ],
   "source": [
    "import matplotlib.pyplot as plt\n",
    "import matplotlib.image as mpimg\n",
    "import tensorflow as tf\n",
    "import numpy as np\n",
    "\n",
    "L1=784\n",
    "L2=800\n",
    "L3=10\n",
    "x = tf.placeholder(tf.float32, [None, L1])\n",
    "W1 = tf.Variable(tf.truncated_normal([L1, L2], stddev=0.1))\n",
    "b1 = tf.Variable(tf.truncated_normal([L2], stddev=0.1))\n",
    "z = tf.nn.sigmoid(tf.matmul(x, W1) + b1)\n",
    "W2 = tf.Variable(tf.truncated_normal([L2, L3], stddev=0.1))\n",
    "b2 = tf.Variable(tf.truncated_normal([L3], stddev=0.1))\n",
    "y = tf.nn.softmax(tf.matmul(z, W2) + b2)\n",
    "y_ = tf.placeholder(tf.float32, [None, L3])\n",
    "\n",
    "cross_entropy = tf.reduce_mean(-tf.reduce_sum(y_ * tf.log(y), reduction_indices=[1]))\n",
    "train_step = tf.train.GradientDescentOptimizer(0.3).minimize(cross_entropy)\n",
    "correct_prediction = tf.equal(tf.argmax(y,1), tf.argmax(y_,1))\n",
    "accuracy = tf.reduce_mean(tf.cast(correct_prediction, tf.float32))\n",
    "\n",
    "sess = tf.InteractiveSession()\n",
    "\n",
    "saver = tf.train.Saver()\n",
    "saver.restore(sess, './model.cpkt')\n",
    "\n",
    "def rgb2gray(rgb):\n",
    "    r, g, b = rgb[:,:,0], rgb[:,:,1], rgb[:,:,2]\n",
    "    gray = 0.2989 * r + 0.5870 * g + 0.1140 * b\n",
    "    return gray\n",
    "\n",
    "img = mpimg.imread('3.png')\n",
    "gray = rgb2gray(img)\n",
    "test = 1 - np.array(gray.reshape(1, 784))\n",
    "#Визуализация изображения\n",
    "plt.imshow(gray, cmap='gray')\n",
    "plt.show()\n",
    "\n",
    "#Получение предсказания для своего изображения\n",
    "print(sess.run(tf.argmax(y, 1), feed_dict={x: test}))"
   ]
  },
  {
   "cell_type": "code",
   "execution_count": null,
   "metadata": {
    "collapsed": true
   },
   "outputs": [],
   "source": []
  }
 ],
 "metadata": {
  "kernelspec": {
   "display_name": "Python 3",
   "language": "python",
   "name": "python3"
  },
  "language_info": {
   "codemirror_mode": {
    "name": "ipython",
    "version": 3
   },
   "file_extension": ".py",
   "mimetype": "text/x-python",
   "name": "python",
   "nbconvert_exporter": "python",
   "pygments_lexer": "ipython3",
   "version": "3.6.3"
  }
 },
 "nbformat": 4,
 "nbformat_minor": 2
}
